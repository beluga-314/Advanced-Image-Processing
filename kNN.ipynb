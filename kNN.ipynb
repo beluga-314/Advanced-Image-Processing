{
 "cells": [
  {
   "cell_type": "markdown",
   "metadata": {
    "id": "XGmM1AiVkUVA"
   },
   "source": [
    "# *Importing Required tools*\n",
    "\n"
   ]
  },
  {
   "cell_type": "code",
   "execution_count": 1,
   "metadata": {
    "colab": {
     "base_uri": "https://localhost:8080/"
    },
    "id": "IFMUt2YfY9nD",
    "outputId": "e676a176-c364-4c8e-b08f-b9918ab97350"
   },
   "outputs": [
    {
     "name": "stdout",
     "output_type": "stream",
     "text": [
      "Mounted at /content/drive\n"
     ]
    }
   ],
   "source": [
    "from google.colab import drive\n",
    "drive.mount('/content/drive')"
   ]
  },
  {
   "cell_type": "code",
   "execution_count": 2,
   "metadata": {
    "id": "bJVikudHSPtx"
   },
   "outputs": [],
   "source": [
    "import torch\n",
    "import warnings\n",
    "import numpy as np\n",
    "import torch.nn as nn\n",
    "import torch.optim as optim\n",
    "from torch.optim import lr_scheduler\n",
    "from torchvision.models import resnet18, ResNet18_Weights\n",
    "from torchvision import transforms, datasets\n",
    "import matplotlib.pyplot as plt\n",
    "import time\n",
    "import os\n",
    "from math import sqrt\n",
    "import copy\n",
    "from torchvision.models.feature_extraction import get_graph_node_names, create_feature_extractor\n",
    "from sklearn.neighbors import KNeighborsClassifier\n",
    "from mlxtend.plotting import plot_decision_regions\n",
    "from sklearn.decomposition import PCA\n",
    "from sklearn import metrics\n",
    "warnings.filterwarnings(\"ignore\")"
   ]
  },
  {
   "cell_type": "markdown",
   "metadata": {
    "id": "jkcnK1zMjkE7"
   },
   "source": [
    "# *Data transforms defined on train and test dataset*"
   ]
  },
  {
   "cell_type": "code",
   "execution_count": 3,
   "metadata": {
    "id": "GvlroVaAaSuI"
   },
   "outputs": [],
   "source": [
    "# Transforms used to normalise the datasets and match the size with ImageNet dataset\n",
    "data_transforms ={\n",
    "    'train': transforms.Compose([\n",
    "        transforms.RandomResizedCrop(224),\n",
    "        transforms.RandomHorizontalFlip(),\n",
    "        transforms.ToTensor(),\n",
    "        transforms.Normalize([0.485, 0.456, 0.406], [0.229, 0.224, 0.225])\n",
    "    ]),\n",
    "    'test' : transforms.Compose([\n",
    "        transforms.Resize(256),\n",
    "        transforms.CenterCrop(224),\n",
    "        transforms.ToTensor(),\n",
    "        transforms.Normalize([0.485, 0.456, 0.406], [0.229, 0.224, 0.225])      \n",
    "    ])\n",
    "    \n",
    "}"
   ]
  },
  {
   "cell_type": "markdown",
   "metadata": {
    "id": "5waHO5Iniy6x"
   },
   "source": [
    "# *Loading train and test data to a dictionary*"
   ]
  },
  {
   "cell_type": "code",
   "execution_count": 4,
   "metadata": {
    "colab": {
     "base_uri": "https://localhost:8080/"
    },
    "id": "hirlfNYWaiv1",
    "outputId": "036eca1a-b1c4-4a84-99c2-d993af795c7a"
   },
   "outputs": [
    {
     "name": "stdout",
     "output_type": "stream",
     "text": [
      "Train and Test dataset after saving in the dictionary\n",
      "\n",
      "{'train': 532, 'test': 120} \n",
      "\n",
      "Class Names are as follows:\n",
      "\n",
      "['bear', 'butterfly', 'camel', 'chimp', 'duck', 'elephant']\n"
     ]
    }
   ],
   "source": [
    "data_dir = '/content/drive/MyDrive/assignment1_data/classification_dataset'\n",
    "\n",
    "#Taking the train and test data into the dictionary\n",
    "\n",
    "image_datasets = {x: datasets.ImageFolder(os.path.join(data_dir, x), data_transforms[x]) for x in ['train', 'test']}\n",
    "dataset_sizes = {x :len(image_datasets[x]) for x in ['train', 'test']}\n",
    "\n",
    "#Setting appropriate batchsize and shuffle for each dataset\n",
    "\n",
    "shuffle = {'train': 'True', 'test': 'False'}\n",
    "dataloaders = {x: torch.utils.data.DataLoader(image_datasets[x], batch_size = dataset_sizes[x], shuffle = shuffle[x], num_workers = 2) for x in ['train', 'test']}\n",
    "class_names = image_datasets['train'].classes\n",
    "print('Train and Test dataset after saving in the dictionary\\n')\n",
    "print(dataset_sizes,'\\n')\n",
    "print('Class Names are as follows:\\n')\n",
    "print(class_names)"
   ]
  },
  {
   "cell_type": "markdown",
   "metadata": {
    "id": "2kFLlv9-j7wL"
   },
   "source": [
    "# *Device Information*"
   ]
  },
  {
   "cell_type": "code",
   "execution_count": 5,
   "metadata": {
    "colab": {
     "base_uri": "https://localhost:8080/"
    },
    "id": "j5HT4IMqbAyZ",
    "outputId": "5f41133c-43fa-4a88-a6c9-2a80ce06310c"
   },
   "outputs": [
    {
     "data": {
      "text/plain": [
       "True"
      ]
     },
     "execution_count": 5,
     "metadata": {},
     "output_type": "execute_result"
    }
   ],
   "source": [
    "torch.cuda.is_available()"
   ]
  },
  {
   "cell_type": "code",
   "execution_count": 6,
   "metadata": {
    "colab": {
     "base_uri": "https://localhost:8080/"
    },
    "id": "O3eQXAzzazQL",
    "outputId": "dbb426db-c981-43f9-fa48-3d7acbc3795e"
   },
   "outputs": [
    {
     "data": {
      "text/plain": [
       "1"
      ]
     },
     "execution_count": 6,
     "metadata": {},
     "output_type": "execute_result"
    }
   ],
   "source": [
    "torch.cuda.device_count()"
   ]
  },
  {
   "cell_type": "code",
   "execution_count": 7,
   "metadata": {
    "colab": {
     "base_uri": "https://localhost:8080/",
     "height": 35
    },
    "id": "4YbHmn_Qazfh",
    "outputId": "f3dac85d-285b-40aa-9ca3-527edb61863e"
   },
   "outputs": [
    {
     "data": {
      "application/vnd.google.colaboratory.intrinsic+json": {
       "type": "string"
      },
      "text/plain": [
       "'Tesla T4'"
      ]
     },
     "execution_count": 7,
     "metadata": {},
     "output_type": "execute_result"
    }
   ],
   "source": [
    "torch.cuda.get_device_name(0)"
   ]
  },
  {
   "cell_type": "code",
   "execution_count": 8,
   "metadata": {
    "colab": {
     "base_uri": "https://localhost:8080/"
    },
    "id": "vew_oEPraIWM",
    "outputId": "a85bb6a0-69d3-4b00-ff8d-2ae9cba072a3"
   },
   "outputs": [
    {
     "name": "stdout",
     "output_type": "stream",
     "text": [
      "Using device: cuda:0\n"
     ]
    }
   ],
   "source": [
    "device = torch.device('cuda:0' if torch.cuda.is_available() else 'cpu')\n",
    "print('Using device:', device)"
   ]
  },
  {
   "cell_type": "markdown",
   "metadata": {
    "id": "Nzapa9z2y13L"
   },
   "source": [
    "# *Using the pretrained ResNet18 Model to extract features*"
   ]
  },
  {
   "cell_type": "code",
   "execution_count": 9,
   "metadata": {
    "colab": {
     "base_uri": "https://localhost:8080/",
     "height": 86,
     "referenced_widgets": [
      "9daeb4d965614f2c96983e4ec20940b3",
      "b3bfd0239bca49678a1a3f614d1c9c47",
      "ca8eeed673b4483fbdcc6a2a242b7855",
      "208ea8a26ac947afac6326cc18197df7",
      "27beb78149e542de87723bcdb93e2538",
      "8d1760f1a15d4eb891fa6a1bc7c90021",
      "1e216416a5c64fc19e99571a26965c1c",
      "1db4178d2a9b4d0484f09b9e19c344d7",
      "1c28e3186f4b415399759e78c91b0489",
      "7c7700a8be3b4887b9e595816f4c635f",
      "b3ab906fb08545c08ee0c24b1fdff979"
     ]
    },
    "id": "s88Mw2v4YWxs",
    "outputId": "b6e5b68a-3363-4082-848f-98c719b84213"
   },
   "outputs": [
    {
     "name": "stderr",
     "output_type": "stream",
     "text": [
      "Downloading: \"https://download.pytorch.org/models/resnet18-f37072fd.pth\" to /root/.cache/torch/hub/checkpoints/resnet18-f37072fd.pth\n"
     ]
    },
    {
     "data": {
      "application/vnd.jupyter.widget-view+json": {
       "model_id": "9daeb4d965614f2c96983e4ec20940b3",
       "version_major": 2,
       "version_minor": 0
      },
      "text/plain": [
       "  0%|          | 0.00/44.7M [00:00<?, ?B/s]"
      ]
     },
     "metadata": {},
     "output_type": "display_data"
    }
   ],
   "source": [
    "model = resnet18(weights=ResNet18_Weights.DEFAULT)\n",
    "model = model.to(device)"
   ]
  },
  {
   "cell_type": "markdown",
   "metadata": {
    "id": "aa7hJY5H25Q-"
   },
   "source": [
    "# *Extracting features before fully connected layer*"
   ]
  },
  {
   "cell_type": "code",
   "execution_count": 10,
   "metadata": {
    "colab": {
     "base_uri": "https://localhost:8080/"
    },
    "id": "APsg6pIgYzMw",
    "outputId": "6bc90fab-539d-484d-eb85-418a27b77700"
   },
   "outputs": [
    {
     "name": "stdout",
     "output_type": "stream",
     "text": [
      "['x', 'conv1', 'bn1', 'relu', 'maxpool', 'layer1.0.conv1', 'layer1.0.bn1', 'layer1.0.relu', 'layer1.0.conv2', 'layer1.0.bn2', 'layer1.0.add', 'layer1.0.relu_1', 'layer1.1.conv1', 'layer1.1.bn1', 'layer1.1.relu', 'layer1.1.conv2', 'layer1.1.bn2', 'layer1.1.add', 'layer1.1.relu_1', 'layer2.0.conv1', 'layer2.0.bn1', 'layer2.0.relu', 'layer2.0.conv2', 'layer2.0.bn2', 'layer2.0.downsample.0', 'layer2.0.downsample.1', 'layer2.0.add', 'layer2.0.relu_1', 'layer2.1.conv1', 'layer2.1.bn1', 'layer2.1.relu', 'layer2.1.conv2', 'layer2.1.bn2', 'layer2.1.add', 'layer2.1.relu_1', 'layer3.0.conv1', 'layer3.0.bn1', 'layer3.0.relu', 'layer3.0.conv2', 'layer3.0.bn2', 'layer3.0.downsample.0', 'layer3.0.downsample.1', 'layer3.0.add', 'layer3.0.relu_1', 'layer3.1.conv1', 'layer3.1.bn1', 'layer3.1.relu', 'layer3.1.conv2', 'layer3.1.bn2', 'layer3.1.add', 'layer3.1.relu_1', 'layer4.0.conv1', 'layer4.0.bn1', 'layer4.0.relu', 'layer4.0.conv2', 'layer4.0.bn2', 'layer4.0.downsample.0', 'layer4.0.downsample.1', 'layer4.0.add', 'layer4.0.relu_1', 'layer4.1.conv1', 'layer4.1.bn1', 'layer4.1.relu', 'layer4.1.conv2', 'layer4.1.bn2', 'layer4.1.add', 'layer4.1.relu_1', 'avgpool', 'flatten', 'fc']\n"
     ]
    }
   ],
   "source": [
    "nodes, _ = get_graph_node_names(model)\n",
    "print(nodes)"
   ]
  },
  {
   "cell_type": "code",
   "execution_count": 11,
   "metadata": {
    "id": "JYjeXrD5bpzu"
   },
   "outputs": [],
   "source": [
    "return_nodes = {'flatten':'f'}\n",
    "model = create_feature_extractor(model, return_nodes = return_nodes)"
   ]
  },
  {
   "cell_type": "markdown",
   "metadata": {
    "id": "hHKU-f7PzMkq"
   },
   "source": [
    "# *Extracting features of our train dataset*"
   ]
  },
  {
   "cell_type": "code",
   "execution_count": 12,
   "metadata": {
    "id": "FjbI75VZeXdh"
   },
   "outputs": [],
   "source": [
    "#Model in evaluation mode with gradients freezed\n",
    "\n",
    "model.eval()\n",
    "with torch.no_grad():\n",
    "  for inputs, labels in dataloaders['train']:\n",
    "    inputs = inputs.to(device)\n",
    "  features = model(inputs)['f'].cpu().numpy()\n",
    "  train_labels = labels.numpy()\n",
    "# print(features.shape)\n",
    "# print(labels.shape)"
   ]
  },
  {
   "cell_type": "markdown",
   "metadata": {
    "id": "LJVOXgy4zT7y"
   },
   "source": [
    "# *Extracting features of out test dataset*"
   ]
  },
  {
   "cell_type": "code",
   "execution_count": 13,
   "metadata": {
    "id": "6bq_ZgrKnpHr"
   },
   "outputs": [],
   "source": [
    "with torch.no_grad():\n",
    "  for inputs, labels in dataloaders['test']:\n",
    "    inputs = inputs.to(device)\n",
    "  outputs = model(inputs)['f'].cpu().numpy()\n",
    "  test_labels = labels.numpy()\n",
    "# print(outputs.shape)\n",
    "# print(output_labels.shape)"
   ]
  },
  {
   "cell_type": "markdown",
   "metadata": {
    "id": "Rw5KHITfzje4"
   },
   "source": [
    "# *Using kNN Classifier to predict the labels of test data*"
   ]
  },
  {
   "cell_type": "code",
   "execution_count": 17,
   "metadata": {
    "colab": {
     "base_uri": "https://localhost:8080/"
    },
    "id": "KgpZAMaPpi6f",
    "outputId": "03ea1a57-fd6d-459a-c921-e412a3c5d789"
   },
   "outputs": [
    {
     "name": "stdout",
     "output_type": "stream",
     "text": [
      "Predicted labels: \n",
      " \n",
      " [2 1 3 1 2 5 0 0 2 4 2 2 4 1 5 0 3 5 2 2 4 0 0 0 0 3 0 3 2 1 3 3 1 1 3 5 3\n",
      " 5 0 0 0 1 0 4 0 5 2 4 2 1 1 3 4 3 1 0 1 2 1 1 4 4 2 3 3 0 4 5 2 5 1 1 4 1\n",
      " 5 4 2 3 5 1 3 5 2 3 1 0 1 5 3 5 4 2 5 4 2 3 5 4 0 5 3 4 4 0 5 2 5 5 4 4 0\n",
      " 0 0 1 2 4 5 2 3 3] \n",
      "\n",
      "Actual labels: \n",
      " \n",
      " [2 1 3 1 2 5 0 0 2 4 2 2 4 1 5 0 3 5 2 2 4 0 0 0 0 3 0 3 2 1 3 3 1 1 3 5 3\n",
      " 5 0 0 0 1 0 4 4 5 2 4 2 1 1 3 4 3 1 0 1 2 1 1 4 4 2 3 3 0 4 5 2 5 1 1 4 1\n",
      " 5 4 2 3 5 1 3 5 2 3 1 0 1 5 3 5 4 2 5 4 2 3 5 4 0 5 3 4 4 0 5 2 5 5 4 4 0\n",
      " 0 0 1 2 4 5 2 3 3] \n",
      "\n",
      "Accuracy on test data is:  99.16666666666667\n",
      "\n",
      "\n",
      "\n",
      "\n",
      "                ###### CLASSIFICATION REPORT ###### \n",
      "\n",
      "\n",
      "              precision    recall  f1-score   support\n",
      "\n",
      "        bear       0.95      1.00      0.98        20\n",
      "   butterfly       1.00      1.00      1.00        20\n",
      "       camel       1.00      1.00      1.00        20\n",
      "       chimp       1.00      1.00      1.00        20\n",
      "        duck       1.00      0.95      0.97        20\n",
      "    elephant       1.00      1.00      1.00        20\n",
      "\n",
      "    accuracy                           0.99       120\n",
      "   macro avg       0.99      0.99      0.99       120\n",
      "weighted avg       0.99      0.99      0.99       120\n",
      "\n",
      "\n",
      "\n",
      " CONFUSION MATRIX\n",
      "\n",
      "\n",
      "[[20  0  0  0  0  0]\n",
      " [ 0 20  0  0  0  0]\n",
      " [ 0  0 20  0  0  0]\n",
      " [ 0  0  0 20  0  0]\n",
      " [ 1  0  0  0 19  0]\n",
      " [ 0  0  0  0  0 20]]\n"
     ]
    }
   ],
   "source": [
    "#Using scikit learn library to apply kNN classifier\n",
    "\n",
    "neigh = KNeighborsClassifier(n_neighbors = 50)\n",
    "neigh.fit(features, train_labels) \n",
    "predictions = neigh.predict(outputs)\n",
    "print('Predicted labels: \\n \\n', predictions, '\\n')\n",
    "print('Actual labels: \\n \\n', test_labels, '\\n')\n",
    "\n",
    "#Calculating the accuracy\n",
    "\n",
    "true_label = []\n",
    "pred_label = []\n",
    "count = 0\n",
    "for i in range(len(test_labels)):\n",
    "  true_label.append(class_names[test_labels[i]])\n",
    "  pred_label.append(class_names[predictions[i]])\n",
    "  if test_labels[i] == predictions[i]:\n",
    "    count = count + 1\n",
    "print('Accuracy on test data is: ',count * 100 /len(test_labels))\n",
    "print('\\n\\n\\n\\n                ###### CLASSIFICATION REPORT ###### \\n\\n')\n",
    "print(metrics.classification_report(true_label, pred_label))\n",
    "print(\"\\n\\n CONFUSION MATRIX\\n\\n\")\n",
    "print(metrics.confusion_matrix(true_label, pred_label))"
   ]
  },
  {
   "cell_type": "markdown",
   "metadata": {
    "id": "Rnri44kX88KJ"
   },
   "source": [
    "# *Plotting decision regions*"
   ]
  },
  {
   "cell_type": "code",
   "execution_count": 19,
   "metadata": {
    "colab": {
     "base_uri": "https://localhost:8080/",
     "height": 621
    },
    "id": "aNeqhub15Cpx",
    "outputId": "efe7733e-25e1-4119-a565-9292a9a7cacd"
   },
   "outputs": [
    {
     "data": {
      "image/png": "[encoded data removed]",
      "text/plain": [
       "<Figure size 720x720 with 1 Axes>"
      ]
     },
     "metadata": {
      "needs_background": "light"
     },
     "output_type": "display_data"
    }
   ],
   "source": [
    "# Use PCA to reduce the dimensionality to 2\n",
    "\n",
    "pca = PCA(n_components = 2)\n",
    "features_reduced = pca.fit_transform(features)\n",
    "\n",
    "#Using kNN Classifier again on reduced data\n",
    "\n",
    "neigh = KNeighborsClassifier(n_neighbors = 50)\n",
    "neigh.fit(features_reduced, train_labels) \n",
    "\n",
    "#plotting\n",
    "\n",
    "fig = plt.figure(figsize=(10, 10))\n",
    "plot_decision_regions(features_reduced, train_labels, clf = neigh, legend=2)\n",
    "plt.xlabel('feature - 1')\n",
    "plt.ylabel('feature - 2')\n",
    "plt.title('Decision regions for kNN')\n",
    "plt.show()"
   ]
  }
 ],
 "metadata": {
  "accelerator": "GPU",
  "colab": {
   "provenance": []
  },
  "gpuClass": "standard",
  "kernelspec": {
   "display_name": "Python 3 (ipykernel)",
   "language": "python",
   "name": "python3"
  },
  "language_info": {
   "codemirror_mode": {
    "name": "ipython",
    "version": 3
   },
   "file_extension": ".py",
   "mimetype": "text/x-python",
   "name": "python",
   "nbconvert_exporter": "python",
   "pygments_lexer": "ipython3",
   "version": "3.10.6"
  },
  "widgets": {
   "application/vnd.jupyter.widget-state+json": {
    "1c28e3186f4b415399759e78c91b0489": {
     "model_module": "@jupyter-widgets/controls",
     "model_module_version": "1.5.0",
     "model_name": "ProgressStyleModel",
     "state": {
      "_model_module": "@jupyter-widgets/controls",
      "_model_module_version": "1.5.0",
      "_model_name": "ProgressStyleModel",
      "_view_count": null,
      "_view_module": "@jupyter-widgets/base",
      "_view_module_version": "1.2.0",
      "_view_name": "StyleView",
      "bar_color": null,
      "description_width": ""
     }
    },
    "1db4178d2a9b4d0484f09b9e19c344d7": {
     "model_module": "@jupyter-widgets/base",
     "model_module_version": "1.2.0",
     "model_name": "LayoutModel",
     "state": {
      "_model_module": "@jupyter-widgets/base",
      "_model_module_version": "1.2.0",
      "_model_name": "LayoutModel",
      "_view_count": null,
      "_view_module": "@jupyter-widgets/base",
      "_view_module_version": "1.2.0",
      "_view_name": "LayoutView",
      "align_content": null,
      "align_items": null,
      "align_self": null,
      "border": null,
      "bottom": null,
      "display": null,
      "flex": null,
      "flex_flow": null,
      "grid_area": null,
      "grid_auto_columns": null,
      "grid_auto_flow": null,
      "grid_auto_rows": null,
      "grid_column": null,
      "grid_gap": null,
      "grid_row": null,
      "grid_template_areas": null,
      "grid_template_columns": null,
      "grid_template_rows": null,
      "height": null,
      "justify_content": null,
      "justify_items": null,
      "left": null,
      "margin": null,
      "max_height": null,
      "max_width": null,
      "min_height": null,
      "min_width": null,
      "object_fit": null,
      "object_position": null,
      "order": null,
      "overflow": null,
      "overflow_x": null,
      "overflow_y": null,
      "padding": null,
      "right": null,
      "top": null,
      "visibility": null,
      "width": null
     }
    },
    "1e216416a5c64fc19e99571a26965c1c": {
     "model_module": "@jupyter-widgets/controls",
     "model_module_version": "1.5.0",
     "model_name": "DescriptionStyleModel",
     "state": {
      "_model_module": "@jupyter-widgets/controls",
      "_model_module_version": "1.5.0",
      "_model_name": "DescriptionStyleModel",
      "_view_count": null,
      "_view_module": "@jupyter-widgets/base",
      "_view_module_version": "1.2.0",
      "_view_name": "StyleView",
      "description_width": ""
     }
    },
    "208ea8a26ac947afac6326cc18197df7": {
     "model_module": "@jupyter-widgets/controls",
     "model_module_version": "1.5.0",
     "model_name": "HTMLModel",
     "state": {
      "_dom_classes": [],
      "_model_module": "@jupyter-widgets/controls",
      "_model_module_version": "1.5.0",
      "_model_name": "HTMLModel",
      "_view_count": null,
      "_view_module": "@jupyter-widgets/controls",
      "_view_module_version": "1.5.0",
      "_view_name": "HTMLView",
      "description": "",
      "description_tooltip": null,
      "layout": "IPY_MODEL_7c7700a8be3b4887b9e595816f4c635f",
      "placeholder": "​",
      "style": "IPY_MODEL_b3ab906fb08545c08ee0c24b1fdff979",
      "value": " 44.7M/44.7M [00:02&lt;00:00, 21.3MB/s]"
     }
    },
    "27beb78149e542de87723bcdb93e2538": {
     "model_module": "@jupyter-widgets/base",
     "model_module_version": "1.2.0",
     "model_name": "LayoutModel",
     "state": {
      "_model_module": "@jupyter-widgets/base",
      "_model_module_version": "1.2.0",
      "_model_name": "LayoutModel",
      "_view_count": null,
      "_view_module": "@jupyter-widgets/base",
      "_view_module_version": "1.2.0",
      "_view_name": "LayoutView",
      "align_content": null,
      "align_items": null,
      "align_self": null,
      "border": null,
      "bottom": null,
      "display": null,
      "flex": null,
      "flex_flow": null,
      "grid_area": null,
      "grid_auto_columns": null,
      "grid_auto_flow": null,
      "grid_auto_rows": null,
      "grid_column": null,
      "grid_gap": null,
      "grid_row": null,
      "grid_template_areas": null,
      "grid_template_columns": null,
      "grid_template_rows": null,
      "height": null,
      "justify_content": null,
      "justify_items": null,
      "left": null,
      "margin": null,
      "max_height": null,
      "max_width": null,
      "min_height": null,
      "min_width": null,
      "object_fit": null,
      "object_position": null,
      "order": null,
      "overflow": null,
      "overflow_x": null,
      "overflow_y": null,
      "padding": null,
      "right": null,
      "top": null,
      "visibility": null,
      "width": null
     }
    },
    "7c7700a8be3b4887b9e595816f4c635f": {
     "model_module": "@jupyter-widgets/base",
     "model_module_version": "1.2.0",
     "model_name": "LayoutModel",
     "state": {
      "_model_module": "@jupyter-widgets/base",
      "_model_module_version": "1.2.0",
      "_model_name": "LayoutModel",
      "_view_count": null,
      "_view_module": "@jupyter-widgets/base",
      "_view_module_version": "1.2.0",
      "_view_name": "LayoutView",
      "align_content": null,
      "align_items": null,
      "align_self": null,
      "border": null,
      "bottom": null,
      "display": null,
      "flex": null,
      "flex_flow": null,
      "grid_area": null,
      "grid_auto_columns": null,
      "grid_auto_flow": null,
      "grid_auto_rows": null,
      "grid_column": null,
      "grid_gap": null,
      "grid_row": null,
      "grid_template_areas": null,
      "grid_template_columns": null,
      "grid_template_rows": null,
      "height": null,
      "justify_content": null,
      "justify_items": null,
      "left": null,
      "margin": null,
      "max_height": null,
      "max_width": null,
      "min_height": null,
      "min_width": null,
      "object_fit": null,
      "object_position": null,
      "order": null,
      "overflow": null,
      "overflow_x": null,
      "overflow_y": null,
      "padding": null,
      "right": null,
      "top": null,
      "visibility": null,
      "width": null
     }
    },
    "8d1760f1a15d4eb891fa6a1bc7c90021": {
     "model_module": "@jupyter-widgets/base",
     "model_module_version": "1.2.0",
     "model_name": "LayoutModel",
     "state": {
      "_model_module": "@jupyter-widgets/base",
      "_model_module_version": "1.2.0",
      "_model_name": "LayoutModel",
      "_view_count": null,
      "_view_module": "@jupyter-widgets/base",
      "_view_module_version": "1.2.0",
      "_view_name": "LayoutView",
      "align_content": null,
      "align_items": null,
      "align_self": null,
      "border": null,
      "bottom": null,
      "display": null,
      "flex": null,
      "flex_flow": null,
      "grid_area": null,
      "grid_auto_columns": null,
      "grid_auto_flow": null,
      "grid_auto_rows": null,
      "grid_column": null,
      "grid_gap": null,
      "grid_row": null,
      "grid_template_areas": null,
      "grid_template_columns": null,
      "grid_template_rows": null,
      "height": null,
      "justify_content": null,
      "justify_items": null,
      "left": null,
      "margin": null,
      "max_height": null,
      "max_width": null,
      "min_height": null,
      "min_width": null,
      "object_fit": null,
      "object_position": null,
      "order": null,
      "overflow": null,
      "overflow_x": null,
      "overflow_y": null,
      "padding": null,
      "right": null,
      "top": null,
      "visibility": null,
      "width": null
     }
    },
    "9daeb4d965614f2c96983e4ec20940b3": {
     "model_module": "@jupyter-widgets/controls",
     "model_module_version": "1.5.0",
     "model_name": "HBoxModel",
     "state": {
      "_dom_classes": [],
      "_model_module": "@jupyter-widgets/controls",
      "_model_module_version": "1.5.0",
      "_model_name": "HBoxModel",
      "_view_count": null,
      "_view_module": "@jupyter-widgets/controls",
      "_view_module_version": "1.5.0",
      "_view_name": "HBoxView",
      "box_style": "",
      "children": [
       "IPY_MODEL_b3bfd0239bca49678a1a3f614d1c9c47",
       "IPY_MODEL_ca8eeed673b4483fbdcc6a2a242b7855",
       "IPY_MODEL_208ea8a26ac947afac6326cc18197df7"
      ],
      "layout": "IPY_MODEL_27beb78149e542de87723bcdb93e2538"
     }
    },
    "b3ab906fb08545c08ee0c24b1fdff979": {
     "model_module": "@jupyter-widgets/controls",
     "model_module_version": "1.5.0",
     "model_name": "DescriptionStyleModel",
     "state": {
      "_model_module": "@jupyter-widgets/controls",
      "_model_module_version": "1.5.0",
      "_model_name": "DescriptionStyleModel",
      "_view_count": null,
      "_view_module": "@jupyter-widgets/base",
      "_view_module_version": "1.2.0",
      "_view_name": "StyleView",
      "description_width": ""
     }
    },
    "b3bfd0239bca49678a1a3f614d1c9c47": {
     "model_module": "@jupyter-widgets/controls",
     "model_module_version": "1.5.0",
     "model_name": "HTMLModel",
     "state": {
      "_dom_classes": [],
      "_model_module": "@jupyter-widgets/controls",
      "_model_module_version": "1.5.0",
      "_model_name": "HTMLModel",
      "_view_count": null,
      "_view_module": "@jupyter-widgets/controls",
      "_view_module_version": "1.5.0",
      "_view_name": "HTMLView",
      "description": "",
      "description_tooltip": null,
      "layout": "IPY_MODEL_8d1760f1a15d4eb891fa6a1bc7c90021",
      "placeholder": "​",
      "style": "IPY_MODEL_1e216416a5c64fc19e99571a26965c1c",
      "value": "100%"
     }
    },
    "ca8eeed673b4483fbdcc6a2a242b7855": {
     "model_module": "@jupyter-widgets/controls",
     "model_module_version": "1.5.0",
     "model_name": "FloatProgressModel",
     "state": {
      "_dom_classes": [],
      "_model_module": "@jupyter-widgets/controls",
      "_model_module_version": "1.5.0",
      "_model_name": "FloatProgressModel",
      "_view_count": null,
      "_view_module": "@jupyter-widgets/controls",
      "_view_module_version": "1.5.0",
      "_view_name": "ProgressView",
      "bar_style": "success",
      "description": "",
      "description_tooltip": null,
      "layout": "IPY_MODEL_1db4178d2a9b4d0484f09b9e19c344d7",
      "max": 46830571,
      "min": 0,
      "orientation": "horizontal",
      "style": "IPY_MODEL_1c28e3186f4b415399759e78c91b0489",
      "value": 46830571
     }
    }
   }
  }
 },
 "nbformat": 4,
 "nbformat_minor": 1
}
